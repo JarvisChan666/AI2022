{
 "cells": [
  {
   "cell_type": "code",
   "execution_count": 1,
   "id": "923bd5bf",
   "metadata": {
    "ExecuteTime": {
     "end_time": "2022-06-07T03:04:41.379312Z",
     "start_time": "2022-06-07T03:04:40.175534Z"
    }
   },
   "outputs": [],
   "source": [
    " import numpy as np\n",
    "import matplotlib.pyplot as plt"
   ]
  },
  {
   "cell_type": "code",
   "execution_count": 7,
   "id": "f4a76d8c",
   "metadata": {
    "ExecuteTime": {
     "end_time": "2022-06-07T03:15:25.093063Z",
     "start_time": "2022-06-07T03:15:24.981785Z"
    }
   },
   "outputs": [
    {
     "data": {
      "text/plain": [
       "(20,)"
      ]
     },
     "metadata": {},
     "output_type": "display_data"
    },
    {
     "data": {
      "text/plain": [
       "array([-1.58444127, -0.33866279, -0.4624422 ,  0.19866762,  1.9333381 ,\n",
       "        4.21036811,  2.70413006,  5.41303639,  4.48191845,  7.12652099,\n",
       "        4.85556288,  6.72205529,  6.4039582 ,  7.19718246,  8.39214848,\n",
       "        8.25900488,  9.02090612,  8.22011655,  8.54724864, 10.78329666])"
      ]
     },
     "metadata": {},
     "output_type": "display_data"
    },
    {
     "data": {
      "image/png": "[encoded data removed]",
      "text/plain": [
       "<Figure size 432x288 with 1 Axes>"
      ]
     },
     "metadata": {
      "needs_background": "light"
     },
     "output_type": "display_data"
    }
   ],
   "source": [
    "# linear data\n",
    "x = np.linspace(0,10,20) + np.random.randn(20)\n",
    "y = np.linspace(2,13,20) + np.random.randn(20)\n",
    "plt.scatter(x,y)\n",
    "display(x.shape,x)"
   ]
  },
  {
   "cell_type": "code",
   "execution_count": 3,
   "id": "adf978dd",
   "metadata": {
    "ExecuteTime": {
     "end_time": "2022-06-07T03:09:48.221503Z",
     "start_time": "2022-06-07T03:09:48.217155Z"
    }
   },
   "outputs": [],
   "source": [
    "from sklearn.linear_model import LinearRegression"
   ]
  },
  {
   "cell_type": "code",
   "execution_count": 9,
   "id": "b2751d5d",
   "metadata": {
    "ExecuteTime": {
     "end_time": "2022-06-07T04:37:40.498041Z",
     "start_time": "2022-06-07T04:37:40.489126Z"
    }
   },
   "outputs": [
    {
     "data": {
      "text/plain": [
       "(20,)"
      ]
     },
     "metadata": {},
     "output_type": "display_data"
    },
    {
     "data": {
      "text/plain": [
       "array([-1.58444127, -0.33866279, -0.4624422 ,  0.19866762,  1.9333381 ,\n",
       "        4.21036811,  2.70413006,  5.41303639,  4.48191845,  7.12652099,\n",
       "        4.85556288,  6.72205529,  6.4039582 ,  7.19718246,  8.39214848,\n",
       "        8.25900488,  9.02090612,  8.22011655,  8.54724864, 10.78329666])"
      ]
     },
     "metadata": {},
     "output_type": "display_data"
    }
   ],
   "source": [
    "linear = LinearRegression(n_jobs = True)\n",
    "linear.fit(x.reshape(-1,1),y)#reshape成1列的列向量，然后-1就是自适应有多少行\n",
    "display(x.shape,x)"
   ]
  },
  {
   "cell_type": "code",
   "execution_count": 47,
   "id": "2f82b7b6",
   "metadata": {
    "ExecuteTime": {
     "end_time": "2022-06-07T04:59:01.772583Z",
     "start_time": "2022-06-07T04:59:01.767203Z"
    }
   },
   "outputs": [
    {
     "data": {
      "text/plain": [
       "array([0.87447969])"
      ]
     },
     "execution_count": 47,
     "metadata": {},
     "output_type": "execute_result"
    }
   ],
   "source": [
    "w = linear.coef_#weight   coefficient\n",
    "w"
   ]
  },
  {
   "cell_type": "code",
   "execution_count": 48,
   "id": "962cdddc",
   "metadata": {
    "ExecuteTime": {
     "end_time": "2022-06-07T04:59:04.201252Z",
     "start_time": "2022-06-07T04:59:04.195546Z"
    }
   },
   "outputs": [
    {
     "data": {
      "text/plain": [
       "2.644079685506555"
      ]
     },
     "execution_count": 48,
     "metadata": {},
     "output_type": "execute_result"
    }
   ],
   "source": [
    "b = linear.intercept_\n",
    "b"
   ]
  },
  {
   "cell_type": "code",
   "execution_count": 14,
   "id": "7d993057",
   "metadata": {
    "ExecuteTime": {
     "end_time": "2022-06-07T04:38:34.121156Z",
     "start_time": "2022-06-07T04:38:33.991324Z"
    }
   },
   "outputs": [
    {
     "data": {
      "text/plain": [
       "[<matplotlib.lines.Line2D at 0x27edb31de80>]"
      ]
     },
     "execution_count": 14,
     "metadata": {},
     "output_type": "execute_result"
    },
    {
     "data": {
      "image/png": "[encoded data removed]",
      "text/plain": [
       "<Figure size 432x288 with 1 Axes>"
      ]
     },
     "metadata": {
      "needs_background": "light"
     },
     "output_type": "display_data"
    }
   ],
   "source": [
    "plt.scatter(x,y)\n",
    "plt.plot(x, w * x + b,color = 'r')"
   ]
  },
  {
   "cell_type": "code",
   "execution_count": 19,
   "id": "e9f81a35",
   "metadata": {
    "ExecuteTime": {
     "end_time": "2022-06-07T04:40:14.464230Z",
     "start_time": "2022-06-07T04:40:14.459449Z"
    }
   },
   "outputs": [],
   "source": [
    "#测试数据\n",
    "x_test = np.linspace(0,8,50)\n",
    "y_ = linear.predict(x_test.reshape(-1,1))"
   ]
  },
  {
   "cell_type": "code",
   "execution_count": 20,
   "id": "52a953a5",
   "metadata": {
    "ExecuteTime": {
     "end_time": "2022-06-07T04:40:14.802573Z",
     "start_time": "2022-06-07T04:40:14.688920Z"
    }
   },
   "outputs": [
    {
     "data": {
      "text/plain": [
       "[<matplotlib.lines.Line2D at 0x27edb6746a0>]"
      ]
     },
     "execution_count": 20,
     "metadata": {},
     "output_type": "execute_result"
    },
    {
     "data": {
      "image/png": "[encoded data removed]",
      "text/plain": [
       "<Figure size 432x288 with 1 Axes>"
      ]
     },
     "metadata": {
      "needs_background": "light"
     },
     "output_type": "display_data"
    }
   ],
   "source": [
    "plt.scatter(x, y)\n",
    "plt.plot(x_test,y_)"
   ]
  },
  {
   "cell_type": "code",
   "execution_count": 21,
   "id": "679415b7",
   "metadata": {
    "ExecuteTime": {
     "end_time": "2022-06-07T04:40:25.298855Z",
     "start_time": "2022-06-07T04:40:25.294571Z"
    }
   },
   "outputs": [],
   "source": [
    "#房价预测"
   ]
  },
  {
   "cell_type": "code",
   "execution_count": 22,
   "id": "538bc769",
   "metadata": {
    "ExecuteTime": {
     "end_time": "2022-06-07T04:41:19.334442Z",
     "start_time": "2022-06-07T04:41:19.330144Z"
    }
   },
   "outputs": [],
   "source": [
    "from sklearn.datasets import _california_housing"
   ]
  },
  {
   "cell_type": "markdown",
   "id": "0a5f9422",
   "metadata": {},
   "source": [
    "### use normal equation to find out coef"
   ]
  },
  {
   "cell_type": "markdown",
   "id": "d908fd71",
   "metadata": {
    "ExecuteTime": {
     "end_time": "2022-06-07T04:42:21.550198Z",
     "start_time": "2022-06-07T04:42:21.544487Z"
    }
   },
   "source": [
    "$$\\theta = (X^TX)^{-1}X^Ty$$"
   ]
  },
  {
   "cell_type": "code",
   "execution_count": 34,
   "id": "ba6018bc",
   "metadata": {
    "ExecuteTime": {
     "end_time": "2022-06-07T04:48:41.983257Z",
     "start_time": "2022-06-07T04:48:41.979400Z"
    }
   },
   "outputs": [],
   "source": [
    "ones = np.ones(shape = (20,1))"
   ]
  },
  {
   "cell_type": "code",
   "execution_count": 36,
   "id": "ba46caa9",
   "metadata": {
    "ExecuteTime": {
     "end_time": "2022-06-07T04:48:56.138568Z",
     "start_time": "2022-06-07T04:48:56.131861Z"
    },
    "collapsed": true
   },
   "outputs": [
    {
     "data": {
      "text/plain": [
       "array([[ 1.        , -1.58444127],\n",
       "       [ 1.        , -0.33866279],\n",
       "       [ 1.        , -0.4624422 ],\n",
       "       [ 1.        ,  0.19866762],\n",
       "       [ 1.        ,  1.9333381 ],\n",
       "       [ 1.        ,  4.21036811],\n",
       "       [ 1.        ,  2.70413006],\n",
       "       [ 1.        ,  5.41303639],\n",
       "       [ 1.        ,  4.48191845],\n",
       "       [ 1.        ,  7.12652099],\n",
       "       [ 1.        ,  4.85556288],\n",
       "       [ 1.        ,  6.72205529],\n",
       "       [ 1.        ,  6.4039582 ],\n",
       "       [ 1.        ,  7.19718246],\n",
       "       [ 1.        ,  8.39214848],\n",
       "       [ 1.        ,  8.25900488],\n",
       "       [ 1.        ,  9.02090612],\n",
       "       [ 1.        ,  8.22011655],\n",
       "       [ 1.        ,  8.54724864],\n",
       "       [ 1.        , 10.78329666]])"
      ]
     },
     "execution_count": 36,
     "metadata": {},
     "output_type": "execute_result"
    }
   ],
   "source": [
    "# we need to write  matrix form, we need a bias to do it --- theta0\n",
    "#we want (20,1),and 2 dimension\n",
    "#hstack and v stack    horizontal,vertical      better than concagenate,dont care axis\n",
    "X = np.hstack((ones,x.reshape(-1,1)))\n",
    "X"
   ]
  },
  {
   "cell_type": "code",
   "execution_count": 37,
   "id": "ee69c7fd",
   "metadata": {
    "ExecuteTime": {
     "end_time": "2022-06-07T04:50:46.017203Z",
     "start_time": "2022-06-07T04:50:46.010249Z"
    }
   },
   "outputs": [
    {
     "data": {
      "text/plain": [
       "array([ 3.19616437,  1.51703987,  3.31905861,  2.01432366,  1.58288348,\n",
       "        4.231005  ,  7.0950257 ,  5.02010721,  8.06230559,  7.89381785,\n",
       "        7.88007865,  6.53642818,  8.43384942, 10.15225648,  9.01017897,\n",
       "        9.22105468, 11.54227678, 11.34967351, 12.36262919, 11.73174587])"
      ]
     },
     "execution_count": 37,
     "metadata": {},
     "output_type": "execute_result"
    }
   ],
   "source": [
    "y"
   ]
  },
  {
   "cell_type": "code",
   "execution_count": 41,
   "id": "803226f3",
   "metadata": {
    "ExecuteTime": {
     "end_time": "2022-06-07T04:54:51.253175Z",
     "start_time": "2022-06-07T04:54:51.245299Z"
    }
   },
   "outputs": [
    {
     "data": {
      "text/plain": [
       "array([[ 20.        , 102.08391363],\n",
       "       [102.08391363, 770.32560228]])"
      ]
     },
     "execution_count": 41,
     "metadata": {},
     "output_type": "execute_result"
    }
   ],
   "source": [
    "np.dot(X.T,X)"
   ]
  },
  {
   "cell_type": "code",
   "execution_count": 44,
   "id": "f27f2b87",
   "metadata": {
    "ExecuteTime": {
     "end_time": "2022-06-07T04:58:12.412115Z",
     "start_time": "2022-06-07T04:58:12.405270Z"
    }
   },
   "outputs": [
    {
     "data": {
      "text/plain": [
       "array([2.64407969, 0.87447969])"
      ]
     },
     "execution_count": 44,
     "metadata": {},
     "output_type": "execute_result"
    }
   ],
   "source": [
    "np.linalg.inv(X.T.dot(X)).dot(X.T).dot(y)#the first one is theta0,second is w,called theta1"
   ]
  },
  {
   "cell_type": "code",
   "execution_count": 49,
   "id": "d25130b7",
   "metadata": {
    "ExecuteTime": {
     "end_time": "2022-06-07T05:01:08.480609Z",
     "start_time": "2022-06-07T05:01:08.473740Z"
    }
   },
   "outputs": [],
   "source": [
    "#fetch need download ,load is in sklearn\n",
    "from sklearn.datasets import load_diabetes"
   ]
  },
  {
   "cell_type": "code",
   "execution_count": 50,
   "id": "15181471",
   "metadata": {
    "ExecuteTime": {
     "end_time": "2022-06-07T05:01:56.206200Z",
     "start_time": "2022-06-07T05:01:56.177218Z"
    }
   },
   "outputs": [],
   "source": [
    "diabetes = load_diabetes()"
   ]
  },
  {
   "cell_type": "code",
   "execution_count": 51,
   "id": "d0a8cf83",
   "metadata": {
    "ExecuteTime": {
     "end_time": "2022-06-07T05:02:13.847612Z",
     "start_time": "2022-06-07T05:02:13.843351Z"
    }
   },
   "outputs": [
    {
     "data": {
      "text/plain": [
       "sklearn.utils.Bunch"
      ]
     },
     "execution_count": 51,
     "metadata": {},
     "output_type": "execute_result"
    }
   ],
   "source": [
    "type(diabetes)"
   ]
  },
  {
   "cell_type": "code",
   "execution_count": null,
   "id": "a0c74bf7",
   "metadata": {},
   "outputs": [],
   "source": [
    "#how to identify regression and classification,when we see many continuous target data,it is regression.\n",
    "#if it only have few target,it is classification"
   ]
  },
  {
   "cell_type": "code",
   "execution_count": 56,
   "id": "a7c473b9",
   "metadata": {
    "ExecuteTime": {
     "end_time": "2022-06-07T05:07:37.657375Z",
     "start_time": "2022-06-07T05:07:37.653871Z"
    }
   },
   "outputs": [
    {
     "name": "stdout",
     "output_type": "stream",
     "text": [
      ".. _diabetes_dataset:\n",
      "\n",
      "Diabetes dataset\n",
      "----------------\n",
      "\n",
      "Ten baseline variables, age, sex, body mass index, average blood\n",
      "pressure, and six blood serum measurements were obtained for each of n =\n",
      "442 diabetes patients, as well as the response of interest, a\n",
      "quantitative measure of disease progression one year after baseline.\n",
      "\n",
      "**Data Set Characteristics:**\n",
      "\n",
      "  :Number of Instances: 442\n",
      "\n",
      "  :Number of Attributes: First 10 columns are numeric predictive values\n",
      "\n",
      "  :Target: Column 11 is a quantitative measure of disease progression one year after baseline\n",
      "\n",
      "  :Attribute Information:\n",
      "      - age     age in years\n",
      "      - sex\n",
      "      - bmi     body mass index\n",
      "      - bp      average blood pressure\n",
      "      - s1      tc, total serum cholesterol\n",
      "      - s2      ldl, low-density lipoproteins\n",
      "      - s3      hdl, high-density lipoproteins\n",
      "      - s4      tch, total cholesterol / HDL\n",
      "      - s5      ltg, possibly log of serum triglycerides level\n",
      "      - s6      glu, blood sugar level\n",
      "\n",
      "Note: Each of these 10 feature variables have been mean centered and scaled by the standard deviation times `n_samples` (i.e. the sum of squares of each column totals 1).\n",
      "\n",
      "Source URL:\n",
      "https://www4.stat.ncsu.edu/~boos/var.select/diabetes.html\n",
      "\n",
      "For more information see:\n",
      "Bradley Efron, Trevor Hastie, Iain Johnstone and Robert Tibshirani (2004) \"Least Angle Regression,\" Annals of Statistics (with discussion), 407-499.\n",
      "(https://web.stanford.edu/~hastie/Papers/LARS/LeastAngle_2002.pdf)\n"
     ]
    }
   ],
   "source": [
    "print(diabetes.DESCR)"
   ]
  },
  {
   "cell_type": "code",
   "execution_count": 57,
   "id": "4a092be4",
   "metadata": {
    "ExecuteTime": {
     "end_time": "2022-06-07T05:07:59.575920Z",
     "start_time": "2022-06-07T05:07:59.568018Z"
    }
   },
   "outputs": [],
   "source": [
    "data = diabetes['data']\n",
    "target = diabetes['target']"
   ]
  },
  {
   "cell_type": "code",
   "execution_count": 58,
   "id": "3844ea72",
   "metadata": {
    "ExecuteTime": {
     "end_time": "2022-06-07T05:08:02.583666Z",
     "start_time": "2022-06-07T05:08:02.576714Z"
    }
   },
   "outputs": [
    {
     "data": {
      "text/plain": [
       "(442, 10)"
      ]
     },
     "execution_count": 58,
     "metadata": {},
     "output_type": "execute_result"
    }
   ],
   "source": [
    "data.shape"
   ]
  },
  {
   "cell_type": "code",
   "execution_count": 59,
   "id": "16229fda",
   "metadata": {
    "ExecuteTime": {
     "end_time": "2022-06-07T05:08:06.501594Z",
     "start_time": "2022-06-07T05:08:06.495066Z"
    }
   },
   "outputs": [
    {
     "data": {
      "text/plain": [
       "(442,)"
      ]
     },
     "execution_count": 59,
     "metadata": {},
     "output_type": "execute_result"
    }
   ],
   "source": [
    "target.shape"
   ]
  },
  {
   "cell_type": "code",
   "execution_count": 60,
   "id": "4ff43901",
   "metadata": {
    "ExecuteTime": {
     "end_time": "2022-06-07T05:08:20.878924Z",
     "start_time": "2022-06-07T05:08:20.874960Z"
    }
   },
   "outputs": [],
   "source": [
    "from sklearn.model_selection import train_test_split"
   ]
  },
  {
   "cell_type": "code",
   "execution_count": 61,
   "id": "fca145a6",
   "metadata": {
    "ExecuteTime": {
     "end_time": "2022-06-07T05:08:56.331044Z",
     "start_time": "2022-06-07T05:08:56.326567Z"
    }
   },
   "outputs": [],
   "source": [
    "X_train, X_test, y_train, y_test = train_test_split(data, target)"
   ]
  },
  {
   "cell_type": "code",
   "execution_count": 62,
   "id": "2377a8db",
   "metadata": {
    "ExecuteTime": {
     "end_time": "2022-06-07T05:09:13.709121Z",
     "start_time": "2022-06-07T05:09:13.671140Z"
    }
   },
   "outputs": [
    {
     "data": {
      "text/plain": [
       "LinearRegression()"
      ]
     },
     "execution_count": 62,
     "metadata": {},
     "output_type": "execute_result"
    }
   ],
   "source": [
    "linear = LinearRegression()\n",
    "linear.fit(X_train, y_train)"
   ]
  },
  {
   "cell_type": "code",
   "execution_count": 63,
   "id": "13a05145",
   "metadata": {
    "ExecuteTime": {
     "end_time": "2022-06-07T05:09:19.439444Z",
     "start_time": "2022-06-07T05:09:19.433099Z"
    }
   },
   "outputs": [
    {
     "data": {
      "text/plain": [
       "array([ -23.79421228, -298.69807517,  507.73343384,  330.8754337 ,\n",
       "       -792.46647482,  353.50431969,   90.29915326,  279.92264056,\n",
       "        705.22835427,   77.81367669])"
      ]
     },
     "execution_count": 63,
     "metadata": {},
     "output_type": "execute_result"
    }
   ],
   "source": [
    "linear.coef_"
   ]
  },
  {
   "cell_type": "code",
   "execution_count": 64,
   "id": "6b05dd01",
   "metadata": {
    "ExecuteTime": {
     "end_time": "2022-06-07T05:09:32.351027Z",
     "start_time": "2022-06-07T05:09:32.345248Z"
    }
   },
   "outputs": [
    {
     "data": {
      "text/plain": [
       "151.67111693983333"
      ]
     },
     "execution_count": 64,
     "metadata": {},
     "output_type": "execute_result"
    }
   ],
   "source": [
    "linear.intercept_"
   ]
  },
  {
   "cell_type": "code",
   "execution_count": 65,
   "id": "adcd4df9",
   "metadata": {
    "ExecuteTime": {
     "end_time": "2022-06-07T05:10:18.000883Z",
     "start_time": "2022-06-07T05:10:17.992340Z"
    }
   },
   "outputs": [
    {
     "data": {
      "text/plain": [
       "0.48361011959657885"
      ]
     },
     "execution_count": 65,
     "metadata": {},
     "output_type": "execute_result"
    }
   ],
   "source": [
    "linear.score(X_test,y_test)"
   ]
  },
  {
   "cell_type": "code",
   "execution_count": 66,
   "id": "716064ae",
   "metadata": {
    "ExecuteTime": {
     "end_time": "2022-06-07T05:12:37.500235Z",
     "start_time": "2022-06-07T05:12:37.495980Z"
    }
   },
   "outputs": [],
   "source": [
    "#作业1：观察每一个特征和标记之间的线性关系，并画出散点图线性关系，观察哪一个特征和标记间线性关系最强烈"
   ]
  },
  {
   "cell_type": "code",
   "execution_count": null,
   "id": "75b7d588",
   "metadata": {},
   "outputs": [],
   "source": [
    "#作业2.boston"
   ]
  },
  {
   "cell_type": "code",
   "execution_count": 67,
   "id": "6e8b2612",
   "metadata": {
    "ExecuteTime": {
     "end_time": "2022-06-07T05:12:48.030857Z",
     "start_time": "2022-06-07T05:12:48.026183Z"
    }
   },
   "outputs": [],
   "source": [
    "from sklearn.datasets import load_boston"
   ]
  },
  {
   "cell_type": "code",
   "execution_count": null,
   "id": "4d1956ee",
   "metadata": {},
   "outputs": [],
   "source": []
  }
 ],
 "metadata": {
  "kernelspec": {
   "display_name": "Python 3 (ipykernel)",
   "language": "python",
   "name": "python3"
  },
  "language_info": {
   "codemirror_mode": {
    "name": "ipython",
    "version": 3
   },
   "file_extension": ".py",
   "mimetype": "text/x-python",
   "name": "python",
   "nbconvert_exporter": "python",
   "pygments_lexer": "ipython3",
   "version": "3.9.7"
  },
  "toc": {
   "base_numbering": 1,
   "nav_menu": {},
   "number_sections": true,
   "sideBar": true,
   "skip_h1_title": false,
   "title_cell": "Table of Contents",
   "title_sidebar": "Contents",
   "toc_cell": false,
   "toc_position": {},
   "toc_section_display": true,
   "toc_window_display": false
  },
  "varInspector": {
   "cols": {
    "lenName": 16,
    "lenType": 16,
    "lenVar": 40
   },
   "kernels_config": {
    "python": {
     "delete_cmd_postfix": "",
     "delete_cmd_prefix": "del ",
     "library": "var_list.py",
     "varRefreshCmd": "print(var_dic_list())"
    },
    "r": {
     "delete_cmd_postfix": ") ",
     "delete_cmd_prefix": "rm(",
     "library": "var_list.r",
     "varRefreshCmd": "cat(var_dic_list()) "
    }
   },
   "types_to_exclude": [
    "module",
    "function",
    "builtin_function_or_method",
    "instance",
    "_Feature"
   ],
   "window_display": false
  }
 },
 "nbformat": 4,
 "nbformat_minor": 5
}
