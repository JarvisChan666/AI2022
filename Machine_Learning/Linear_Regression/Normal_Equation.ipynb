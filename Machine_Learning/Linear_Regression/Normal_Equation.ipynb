{
 "cells": [
  {
   "cell_type": "markdown",
   "id": "9c85d224",
   "metadata": {},
   "source": [
    "### normal equation"
   ]
  },
  {
   "cell_type": "markdown",
   "id": "4b68d663",
   "metadata": {},
   "source": [
    "#### 2 unknowns 1 equation"
   ]
  },
  {
   "cell_type": "markdown",
   "id": "d1ff4a06",
   "metadata": {},
   "source": [
    "$W = (X^TX)^{-1}X^Ty $"
   ]
  },
  {
   "cell_type": "code",
   "execution_count": 1,
   "id": "7ad6cf2f",
   "metadata": {
    "ExecuteTime": {
     "end_time": "2022-06-07T07:34:32.673277Z",
     "start_time": "2022-06-07T07:34:32.480759Z"
    }
   },
   "outputs": [
    {
     "data": {
      "text/plain": [
       "array([8., 6.])"
      ]
     },
     "execution_count": 1,
     "metadata": {},
     "output_type": "execute_result"
    }
   ],
   "source": [
    "import numpy as np\n",
    "X = np.array([[1,1],[2,-1]])#2 dim, when you dot, it became (2,1)\n",
    "y = np.array([14,10])\n",
    "\n",
    "w = np.linalg.inv(X.T.dot(X)).dot(X.T).dot(y)\n",
    "w"
   ]
  },
  {
   "cell_type": "code",
   "execution_count": 2,
   "id": "a5d91ab4",
   "metadata": {
    "ExecuteTime": {
     "end_time": "2022-06-07T07:34:33.191045Z",
     "start_time": "2022-06-07T07:34:32.675285Z"
    }
   },
   "outputs": [
    {
     "data": {
      "text/plain": [
       "array([8., 6.])"
      ]
     },
     "metadata": {},
     "output_type": "display_data"
    },
    {
     "data": {
      "text/plain": [
       "0.0"
      ]
     },
     "metadata": {},
     "output_type": "display_data"
    }
   ],
   "source": [
    "from sklearn.linear_model import LinearRegression\n",
    "\n",
    "#model = LinearRegression()#fit_intercept is true WHEN default\n",
    "model = LinearRegression(fit_intercept=False)\n",
    "model.fit(X,y)\n",
    "display(model.coef_,model.intercept_)# different answer!!because of fit intercept，是否适应，计算截距，但是我们算出来的答案也是符合的\n",
    "\n",
    "#linear regression is a packaging of normal equation"
   ]
  },
  {
   "cell_type": "code",
   "execution_count": 3,
   "id": "9b3900a2",
   "metadata": {
    "ExecuteTime": {
     "end_time": "2022-06-07T07:34:33.200772Z",
     "start_time": "2022-06-07T07:34:33.192046Z"
    }
   },
   "outputs": [
    {
     "data": {
      "text/plain": [
       "array([-0.8,  1.6])"
      ]
     },
     "metadata": {},
     "output_type": "display_data"
    },
    {
     "data": {
      "text/plain": [
       "13.2"
      ]
     },
     "metadata": {},
     "output_type": "display_data"
    }
   ],
   "source": [
    "from sklearn.linear_model import LinearRegression\n",
    "\n",
    "#model = LinearRegression()#fit_intercept is true WHEN default\n",
    "model = LinearRegression(fit_intercept=True)\n",
    "model.fit(X,y)\n",
    "display(model.coef_,model.intercept_)# different answer!!because of fit intercept，是否适应，计算截距，但是我们算出来的答案也是符合的\n",
    "\n",
    "#linear regression is a packaging of normal equation"
   ]
  },
  {
   "cell_type": "markdown",
   "id": "4cf746b4",
   "metadata": {},
   "source": [
    "### 多元"
   ]
  },
  {
   "cell_type": "code",
   "execution_count": 4,
   "id": "ce7eae27",
   "metadata": {
    "ExecuteTime": {
     "end_time": "2022-06-07T07:34:33.223294Z",
     "start_time": "2022-06-07T07:34:33.203294Z"
    }
   },
   "outputs": [
    {
     "data": {
      "text/plain": [
       "array([[  0,  14,   8,   0,   5,  -2,   9,  -3],\n",
       "       [ -4,  10,   6,   4, -14,  -2, -14,   8],\n",
       "       [ -1,  -6,   5, -12,   3,  -3,   2,  -2],\n",
       "       [  5,  -2,   3,  10,   5,  11,   4,  -8],\n",
       "       [-15, -15,  -8, -15,   7,  -4, -12,   2],\n",
       "       [ 11, -10,  -2,   4,   3,  -9,  -6,   7],\n",
       "       [-14,   0,   4,  -3,   5,  10,  13,   7],\n",
       "       [ -3,  -7,  -2,  -8,   0,  -6,  -5,  -9]])"
      ]
     },
     "metadata": {},
     "output_type": "display_data"
    },
    {
     "data": {
      "text/plain": [
       "array([ 339, -114,   30,  126, -395,  -87,  422, -309])"
      ]
     },
     "metadata": {},
     "output_type": "display_data"
    }
   ],
   "source": [
    "# 上面八元一次方程对应的X数据\n",
    "X = np.array([[  0 ,14 , 8 ,  0 ,  5,  -2,   9,  -3],\n",
    " [ -4 , 10 ,  6 ,  4 ,-14 , -2 ,-14  , 8],\n",
    " [ -1 , -6  , 5 ,-12 ,  3 , -3 ,  2 , -2],\n",
    " [  5 , -2  , 3 , 10  , 5 , 11 ,  4  ,-8],\n",
    " [-15 ,-15  ,-8 ,-15 ,  7 , -4, -12 ,  2],\n",
    " [ 11 ,-10 , -2 ,  4  , 3 , -9 , -6 ,  7],\n",
    " [-14 ,  0 ,  4 , -3  , 5 , 10 , 13 ,  7],\n",
    " [ -3 , -7 , -2 , -8  , 0 , -6 , -5 , -9]])\n",
    "# 对应的y\n",
    "y = np.array([ 339 ,-114  , 30 , 126, -395 , -87 , 422, -309])\n",
    "display(X,y)"
   ]
  },
  {
   "cell_type": "code",
   "execution_count": 5,
   "id": "d6112b6c",
   "metadata": {
    "ExecuteTime": {
     "end_time": "2022-06-07T07:34:33.237351Z",
     "start_time": "2022-06-07T07:34:33.225297Z"
    }
   },
   "outputs": [
    {
     "data": {
      "text/plain": [
       "array([ 1.,  5., 15.,  3.,  8.,  4., 17., 12.])"
      ]
     },
     "execution_count": 5,
     "metadata": {},
     "output_type": "execute_result"
    }
   ],
   "source": [
    "w = np.linalg.inv(X.T.dot(X)).dot(X.T).dot(y)\n",
    "w\n",
    "#8 coef"
   ]
  },
  {
   "cell_type": "code",
   "execution_count": 6,
   "id": "b635f3e8",
   "metadata": {
    "ExecuteTime": {
     "end_time": "2022-06-07T07:34:33.254317Z",
     "start_time": "2022-06-07T07:34:33.239387Z"
    }
   },
   "outputs": [
    {
     "data": {
      "text/plain": [
       "array([ 1.,  5., 15.,  3.,  8.,  4., 17., 12.])"
      ]
     },
     "metadata": {},
     "output_type": "display_data"
    },
    {
     "data": {
      "text/plain": [
       "0.0"
      ]
     },
     "metadata": {},
     "output_type": "display_data"
    }
   ],
   "source": [
    "model = LinearRegression(fit_intercept=False)\n",
    "model.fit(X,y)\n",
    "display(model.coef_,model.intercept_)"
   ]
  },
  {
   "cell_type": "markdown",
   "id": "50fba11c",
   "metadata": {},
   "source": [
    "#### add bias [12]"
   ]
  },
  {
   "cell_type": "code",
   "execution_count": 7,
   "id": "e8cc1518",
   "metadata": {
    "ExecuteTime": {
     "end_time": "2022-06-07T07:34:33.265313Z",
     "start_time": "2022-06-07T07:34:33.256297Z"
    }
   },
   "outputs": [
    {
     "data": {
      "text/plain": [
       "array([ 351, -102,   42,  138, -383,  -75,  434, -297])"
      ]
     },
     "execution_count": 7,
     "metadata": {},
     "output_type": "execute_result"
    }
   ],
   "source": [
    "# 给了截距，意味着所有目标值y加了12 \n",
    "y_new = y + 12\n",
    "y_new"
   ]
  },
  {
   "cell_type": "code",
   "execution_count": 8,
   "id": "b3cd4c18",
   "metadata": {
    "ExecuteTime": {
     "end_time": "2022-06-07T07:34:33.282416Z",
     "start_time": "2022-06-07T07:34:33.267358Z"
    }
   },
   "outputs": [
    {
     "data": {
      "text/plain": [
       "array([-0.97516868,  3.46580429, 18.35492506,  5.05194511,  8.91564723,\n",
       "        2.19237439, 16.61633672, 11.36705945])"
      ]
     },
     "execution_count": 8,
     "metadata": {},
     "output_type": "execute_result"
    }
   ],
   "source": [
    "w = np.linalg.inv(X.T.dot(X)).dot(X.T).dot(y_new)\n",
    "w"
   ]
  },
  {
   "cell_type": "code",
   "execution_count": 9,
   "id": "45cb0a4b",
   "metadata": {
    "ExecuteTime": {
     "end_time": "2022-06-07T07:34:33.298481Z",
     "start_time": "2022-06-07T07:34:33.284368Z"
    }
   },
   "outputs": [
    {
     "data": {
      "text/plain": [
       "array([[1.],\n",
       "       [1.],\n",
       "       [1.],\n",
       "       [1.],\n",
       "       [1.],\n",
       "       [1.],\n",
       "       [1.],\n",
       "       [1.]])"
      ]
     },
     "execution_count": 9,
     "metadata": {},
     "output_type": "execute_result"
    }
   ],
   "source": [
    "ones1 = np.ones(shape = (8,1))\n",
    "ones1"
   ]
  },
  {
   "cell_type": "code",
   "execution_count": 10,
   "id": "0fc39aa1",
   "metadata": {
    "ExecuteTime": {
     "end_time": "2022-06-07T07:34:33.315559Z",
     "start_time": "2022-06-07T07:34:33.302480Z"
    }
   },
   "outputs": [
    {
     "data": {
      "text/plain": [
       "(8, 9)"
      ]
     },
     "metadata": {},
     "output_type": "display_data"
    },
    {
     "data": {
      "text/plain": [
       "array([[  0.,  14.,   8.,   0.,   5.,  -2.,   9.,  -3.,   1.],\n",
       "       [ -4.,  10.,   6.,   4., -14.,  -2., -14.,   8.,   1.],\n",
       "       [ -1.,  -6.,   5., -12.,   3.,  -3.,   2.,  -2.,   1.],\n",
       "       [  5.,  -2.,   3.,  10.,   5.,  11.,   4.,  -8.,   1.],\n",
       "       [-15., -15.,  -8., -15.,   7.,  -4., -12.,   2.,   1.],\n",
       "       [ 11., -10.,  -2.,   4.,   3.,  -9.,  -6.,   7.,   1.],\n",
       "       [-14.,   0.,   4.,  -3.,   5.,  10.,  13.,   7.,   1.],\n",
       "       [ -3.,  -7.,  -2.,  -8.,   0.,  -6.,  -5.,  -9.,   1.]])"
      ]
     },
     "metadata": {},
     "output_type": "display_data"
    }
   ],
   "source": [
    "# we can consider b as wo*1\n",
    "#他其实权重都相同，说明这个bias特征理论上并不重要\n",
    "X_new = np.hstack((X,ones1))\n",
    "display(X_new.shape,X_new)"
   ]
  },
  {
   "cell_type": "code",
   "execution_count": 11,
   "id": "8911e537",
   "metadata": {
    "ExecuteTime": {
     "end_time": "2022-06-07T07:34:33.326557Z",
     "start_time": "2022-06-07T07:34:33.317584Z"
    }
   },
   "outputs": [],
   "source": [
    "#array([ 1.,  5., 15.,  3.,  8.,  4., 17., 12.]) solution"
   ]
  },
  {
   "cell_type": "code",
   "execution_count": 12,
   "id": "d4d21fff",
   "metadata": {
    "ExecuteTime": {
     "end_time": "2022-06-07T07:34:33.342906Z",
     "start_time": "2022-06-07T07:34:33.328563Z"
    }
   },
   "outputs": [
    {
     "data": {
      "text/plain": [
       "127.0"
      ]
     },
     "metadata": {},
     "output_type": "display_data"
    },
    {
     "data": {
      "text/plain": [
       "array([-9,  7, -4,  4, -5, -6,  9,  5])"
      ]
     },
     "metadata": {},
     "output_type": "display_data"
    }
   ],
   "source": [
    "w = np.array([ 1.,  5., 15.,  3.,  8.,  4., 17., 12.])\n",
    "b = 12\n",
    "X9 = np.random.randint(-10,10,size = 8)\n",
    "y9 = w.dot(X9)#ninth target\n",
    "display(y9,X9)"
   ]
  },
  {
   "cell_type": "code",
   "execution_count": 13,
   "id": "ddcba063",
   "metadata": {
    "ExecuteTime": {
     "end_time": "2022-06-07T07:34:33.359015Z",
     "start_time": "2022-06-07T07:34:33.344511Z"
    }
   },
   "outputs": [
    {
     "data": {
      "text/plain": [
       "array([ 351, -102,   42,  138, -383,  -75,  434, -297])"
      ]
     },
     "metadata": {},
     "output_type": "display_data"
    },
    {
     "data": {
      "text/plain": [
       "array([ 351., -102.,   42.,  138., -383.,  -75.,  434., -297.,  127.])"
      ]
     },
     "metadata": {},
     "output_type": "display_data"
    }
   ],
   "source": [
    "display(y_new)\n",
    "y_new = np.hstack((y_new,[y9]))\n",
    "display(y_new)"
   ]
  },
  {
   "cell_type": "code",
   "execution_count": 14,
   "id": "bbfc3ed9",
   "metadata": {
    "ExecuteTime": {
     "end_time": "2022-06-07T07:34:33.374005Z",
     "start_time": "2022-06-07T07:34:33.360923Z"
    }
   },
   "outputs": [
    {
     "data": {
      "text/plain": [
       "array([[  0.,  14.,   8.,   0.,   5.,  -2.,   9.,  -3.,   1.],\n",
       "       [ -4.,  10.,   6.,   4., -14.,  -2., -14.,   8.,   1.],\n",
       "       [ -1.,  -6.,   5., -12.,   3.,  -3.,   2.,  -2.,   1.],\n",
       "       [  5.,  -2.,   3.,  10.,   5.,  11.,   4.,  -8.,   1.],\n",
       "       [-15., -15.,  -8., -15.,   7.,  -4., -12.,   2.,   1.],\n",
       "       [ 11., -10.,  -2.,   4.,   3.,  -9.,  -6.,   7.,   1.],\n",
       "       [-14.,   0.,   4.,  -3.,   5.,  10.,  13.,   7.,   1.],\n",
       "       [ -3.,  -7.,  -2.,  -8.,   0.,  -6.,  -5.,  -9.,   1.]])"
      ]
     },
     "metadata": {},
     "output_type": "display_data"
    },
    {
     "data": {
      "text/plain": [
       "array([-9,  7, -4,  4, -5, -6,  9,  5])"
      ]
     },
     "metadata": {},
     "output_type": "display_data"
    }
   ],
   "source": [
    "display(X_new,X9)"
   ]
  },
  {
   "cell_type": "markdown",
   "id": "84962239",
   "metadata": {},
   "source": [
    "对于机器而言，其实不区分bias，都是需要求解的变量"
   ]
  },
  {
   "cell_type": "code",
   "execution_count": 15,
   "id": "08cf6092",
   "metadata": {
    "ExecuteTime": {
     "end_time": "2022-06-07T07:34:33.394218Z",
     "start_time": "2022-06-07T07:34:33.376008Z"
    },
    "collapsed": true
   },
   "outputs": [
    {
     "data": {
      "text/plain": [
       "array([[  0.,  14.,   8.,   0.,   5.,  -2.,   9.,  -3.,   1.],\n",
       "       [ -4.,  10.,   6.,   4., -14.,  -2., -14.,   8.,   1.],\n",
       "       [ -1.,  -6.,   5., -12.,   3.,  -3.,   2.,  -2.,   1.],\n",
       "       [  5.,  -2.,   3.,  10.,   5.,  11.,   4.,  -8.,   1.],\n",
       "       [-15., -15.,  -8., -15.,   7.,  -4., -12.,   2.,   1.],\n",
       "       [ 11., -10.,  -2.,   4.,   3.,  -9.,  -6.,   7.,   1.],\n",
       "       [-14.,   0.,   4.,  -3.,   5.,  10.,  13.,   7.,   1.],\n",
       "       [ -3.,  -7.,  -2.,  -8.,   0.,  -6.,  -5.,  -9.,   1.]])"
      ]
     },
     "metadata": {},
     "output_type": "display_data"
    },
    {
     "data": {
      "text/plain": [
       "array([ 351., -102.,   42.,  138., -383.,  -75.,  434., -297.,  127.])"
      ]
     },
     "metadata": {},
     "output_type": "display_data"
    },
    {
     "data": {
      "text/plain": [
       "array([ 1.,  5., 15.,  3.,  8.,  4., 17., 12.])"
      ]
     },
     "metadata": {},
     "output_type": "display_data"
    },
    {
     "data": {
      "text/plain": [
       "array([[  0.,  14.,   8.,   0.,   5.,  -2.,   9.,  -3.,   1.],\n",
       "       [ -4.,  10.,   6.,   4., -14.,  -2., -14.,   8.,   1.],\n",
       "       [ -1.,  -6.,   5., -12.,   3.,  -3.,   2.,  -2.,   1.],\n",
       "       [  5.,  -2.,   3.,  10.,   5.,  11.,   4.,  -8.,   1.],\n",
       "       [-15., -15.,  -8., -15.,   7.,  -4., -12.,   2.,   1.],\n",
       "       [ 11., -10.,  -2.,   4.,   3.,  -9.,  -6.,   7.,   1.],\n",
       "       [-14.,   0.,   4.,  -3.,   5.,  10.,  13.,   7.,   1.],\n",
       "       [ -3.,  -7.,  -2.,  -8.,   0.,  -6.,  -5.,  -9.,   1.],\n",
       "       [ -9.,   7.,  -4.,   4.,  -5.,  -6.,   9.,   5.,   1.]])"
      ]
     },
     "metadata": {},
     "output_type": "display_data"
    }
   ],
   "source": [
    "display(X_new,y_new,w)\n",
    "#现在需要将Xnew变方阵\n",
    "X9 = np.hstack((X9,[1]))\n",
    "X_new = np.vstack((X_new,X9))\n",
    "display(X_new)"
   ]
  },
  {
   "cell_type": "code",
   "execution_count": 16,
   "id": "3de57c02",
   "metadata": {
    "ExecuteTime": {
     "end_time": "2022-06-07T07:34:33.405219Z",
     "start_time": "2022-06-07T07:34:33.396222Z"
    },
    "collapsed": true
   },
   "outputs": [
    {
     "data": {
      "text/plain": [
       "array([-1.25198954,  3.25078601, 18.82511945,  5.33952622,  9.04397563,\n",
       "        1.93903478, 16.56256612, 11.27835253, -1.68180587])"
      ]
     },
     "metadata": {},
     "output_type": "display_data"
    },
    {
     "data": {
      "text/plain": [
       "0.0"
      ]
     },
     "metadata": {},
     "output_type": "display_data"
    }
   ],
   "source": [
    "model = LinearRegression(fit_intercept=False)\n",
    "\n",
    "model.fit(X_new,y_new)\n",
    "\n",
    "display(model.coef_,model.intercept_)"
   ]
  },
  {
   "cell_type": "code",
   "execution_count": 17,
   "id": "1f945a5d",
   "metadata": {
    "ExecuteTime": {
     "end_time": "2022-06-07T07:34:33.421223Z",
     "start_time": "2022-06-07T07:34:33.407279Z"
    },
    "collapsed": true
   },
   "outputs": [
    {
     "data": {
      "text/plain": [
       "array([-1.25198954,  3.25078601, 18.82511945,  5.33952622,  9.04397563,\n",
       "        1.93903478, 16.56256612, 11.27835253,  0.        ])"
      ]
     },
     "metadata": {},
     "output_type": "display_data"
    },
    {
     "data": {
      "text/plain": [
       "-1.681805874572536"
      ]
     },
     "metadata": {},
     "output_type": "display_data"
    }
   ],
   "source": [
    "model = LinearRegression(fit_intercept=True)#我猜内部是去找不重要的数\n",
    "\n",
    "model.fit(X_new,y_new)\n",
    "\n",
    "display(model.coef_,model.intercept_)"
   ]
  },
  {
   "cell_type": "code",
   "execution_count": 18,
   "id": "bed3903b",
   "metadata": {
    "ExecuteTime": {
     "end_time": "2022-06-07T07:34:33.437827Z",
     "start_time": "2022-06-07T07:34:33.422219Z"
    },
    "collapsed": true
   },
   "outputs": [
    {
     "data": {
      "text/plain": [
       "array([-1.25198954,  3.25078601, 18.82511945,  5.33952622,  9.04397563,\n",
       "        1.93903478, 16.56256612, 11.27835253,  0.        ])"
      ]
     },
     "metadata": {},
     "output_type": "display_data"
    },
    {
     "data": {
      "text/plain": [
       "(9,)"
      ]
     },
     "metadata": {},
     "output_type": "display_data"
    },
    {
     "data": {
      "text/plain": [
       "-1.681805874572536"
      ]
     },
     "metadata": {},
     "output_type": "display_data"
    },
    {
     "data": {
      "text/plain": [
       "()"
      ]
     },
     "metadata": {},
     "output_type": "display_data"
    }
   ],
   "source": [
    "display(model.coef_,model.coef_.shape)\n",
    "display(model.intercept_,model.intercept_.shape)"
   ]
  },
  {
   "cell_type": "code",
   "execution_count": 19,
   "id": "d512fd14",
   "metadata": {
    "ExecuteTime": {
     "end_time": "2022-06-07T07:34:33.450789Z",
     "start_time": "2022-06-07T07:34:33.439725Z"
    },
    "collapsed": true
   },
   "outputs": [
    {
     "data": {
      "text/plain": [
       "array([ 1.,  5., 15.,  3.,  8.,  4., 17., 12., 12.])"
      ]
     },
     "execution_count": 19,
     "metadata": {},
     "output_type": "execute_result"
    }
   ],
   "source": [
    "w = np.hstack((w,[12]))\n",
    "w"
   ]
  },
  {
   "cell_type": "code",
   "execution_count": 20,
   "id": "0747c5c3",
   "metadata": {
    "ExecuteTime": {
     "end_time": "2022-06-07T07:34:33.461788Z",
     "start_time": "2022-06-07T07:34:33.452786Z"
    },
    "collapsed": true
   },
   "outputs": [
    {
     "data": {
      "text/plain": [
       "(9,)"
      ]
     },
     "execution_count": 20,
     "metadata": {},
     "output_type": "execute_result"
    }
   ],
   "source": [
    "w.shape"
   ]
  },
  {
   "cell_type": "code",
   "execution_count": 21,
   "id": "31d4e598",
   "metadata": {
    "ExecuteTime": {
     "end_time": "2022-06-07T07:34:33.474885Z",
     "start_time": "2022-06-07T07:34:33.464785Z"
    }
   },
   "outputs": [],
   "source": [
    "y = X_new.dot(w) + b"
   ]
  },
  {
   "cell_type": "code",
   "execution_count": 22,
   "id": "bab44793",
   "metadata": {
    "ExecuteTime": {
     "end_time": "2022-06-07T07:34:33.489866Z",
     "start_time": "2022-06-07T07:34:33.476810Z"
    }
   },
   "outputs": [
    {
     "data": {
      "text/plain": [
       "array([ 363.,  -90.,   54.,  150., -371.,  -63.,  446., -285.,  151.])"
      ]
     },
     "metadata": {},
     "output_type": "display_data"
    },
    {
     "data": {
      "text/plain": [
       "array([ 351., -102.,   42.,  138., -383.,  -75.,  434., -297.,  127.])"
      ]
     },
     "metadata": {},
     "output_type": "display_data"
    }
   ],
   "source": [
    "display(y,y_new)"
   ]
  },
  {
   "cell_type": "markdown",
   "id": "face6f71",
   "metadata": {},
   "source": [
    "加截距和不加真的没什么差别\n",
    "之所以true和false都能求，是因为是最后一列都是1，表明了都是截距，false能算出值，true就是0"
   ]
  },
  {
   "cell_type": "code",
   "execution_count": null,
   "id": "27744d30",
   "metadata": {},
   "outputs": [],
   "source": []
  }
 ],
 "metadata": {
  "kernelspec": {
   "display_name": "Python 3 (ipykernel)",
   "language": "python",
   "name": "python3"
  },
  "language_info": {
   "codemirror_mode": {
    "name": "ipython",
    "version": 3
   },
   "file_extension": ".py",
   "mimetype": "text/x-python",
   "name": "python",
   "nbconvert_exporter": "python",
   "pygments_lexer": "ipython3",
   "version": "3.9.7"
  },
  "toc": {
   "base_numbering": 1,
   "nav_menu": {},
   "number_sections": true,
   "sideBar": true,
   "skip_h1_title": false,
   "title_cell": "Table of Contents",
   "title_sidebar": "Contents",
   "toc_cell": false,
   "toc_position": {},
   "toc_section_display": true,
   "toc_window_display": false
  },
  "varInspector": {
   "cols": {
    "lenName": 16,
    "lenType": 16,
    "lenVar": 40
   },
   "kernels_config": {
    "python": {
     "delete_cmd_postfix": "",
     "delete_cmd_prefix": "del ",
     "library": "var_list.py",
     "varRefreshCmd": "print(var_dic_list())"
    },
    "r": {
     "delete_cmd_postfix": ") ",
     "delete_cmd_prefix": "rm(",
     "library": "var_list.r",
     "varRefreshCmd": "cat(var_dic_list()) "
    }
   },
   "types_to_exclude": [
    "module",
    "function",
    "builtin_function_or_method",
    "instance",
    "_Feature"
   ],
   "window_display": false
  }
 },
 "nbformat": 4,
 "nbformat_minor": 5
}
